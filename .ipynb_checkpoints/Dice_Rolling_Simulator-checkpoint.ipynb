{
 "cells": [
  {
   "cell_type": "markdown",
   "id": "4e0ff420",
   "metadata": {},
   "source": [
    "# Importing required libraries"
   ]
  },
  {
   "cell_type": "code",
   "execution_count": 3,
   "id": "b1d0f592",
   "metadata": {},
   "outputs": [],
   "source": [
    "#Imported to use Tkinter and make GUI applications.\n",
    "import tkinter\n",
    "\n",
    "#Imported from PIL, i.e. Python Imaging Library. We use it to perform operations involving images in our UI.\n",
    "from PIL import Image, ImageTk\n",
    "\n",
    "#Imported to generate random numbers\n",
    "import random"
   ]
  },
  {
   "cell_type": "markdown",
   "id": "de324d54",
   "metadata": {},
   "source": [
    "# Building a top-level widget to make the main window for our application"
   ]
  },
  {
   "cell_type": "code",
   "execution_count": 4,
   "id": "502f4fe9",
   "metadata": {},
   "outputs": [
    {
     "data": {
      "text/plain": [
       "''"
      ]
     },
     "execution_count": 4,
     "metadata": {},
     "output_type": "execute_result"
    }
   ],
   "source": [
    "root = tkinter.Tk()\n",
    "root.geometry('400x400')\n",
    "root.title('Dice Roller')"
   ]
  },
  {
   "cell_type": "markdown",
   "id": "d775b654",
   "metadata": {},
   "source": [
    "# Adding a Blank Line for better visual"
   ]
  },
  {
   "cell_type": "code",
   "execution_count": 5,
   "id": "6d75a9ec",
   "metadata": {},
   "outputs": [],
   "source": [
    "BlankLine = tkinter.Label(root, text = '')\n",
    "BlankLine.pack()"
   ]
  },
  {
   "cell_type": "markdown",
   "id": "ec53394f",
   "metadata": {},
   "source": [
    "# Adding a Heading Label"
   ]
  },
  {
   "cell_type": "code",
   "execution_count": 7,
   "id": "f696aaec",
   "metadata": {},
   "outputs": [],
   "source": [
    "HeadingLabel = tkinter.Label(root, text = 'Let us roll the dice!',fg = 'light green', bg = 'dark green', font = 'Helvetica 16 bold italic').pack()"
   ]
  },
  {
   "cell_type": "markdown",
   "id": "fcdd8632",
   "metadata": {},
   "source": [
    "# Creating the Inital Dice image"
   ]
  },
  {
   "cell_type": "markdown",
   "id": "c355147e",
   "metadata": {},
   "source": [
    "### Dice Images are downloaded from the internet and kept in the same working directory"
   ]
  },
  {
   "cell_type": "code",
   "execution_count": 8,
   "id": "f81d2b8c",
   "metadata": {},
   "outputs": [],
   "source": [
    "dice = ['Die1.png','Die2.png','Die3.png','Die4.png','Die5.png','Die6.png']\n",
    "DiceImage = ImageTk.PhotoImage(Image.open(random.choice(dice)))"
   ]
  },
  {
   "cell_type": "markdown",
   "id": "7f1d2720",
   "metadata": {},
   "source": [
    "# Creating a static image label which we will update in our function later"
   ]
  },
  {
   "cell_type": "code",
   "execution_count": 108,
   "id": "19064fd8",
   "metadata": {},
   "outputs": [],
   "source": [
    "ImageLabel = tkinter.Label(root, image = DiceImage)\n",
    "ImageLabel.image = DiceImage\n",
    "ImageLabel.pack(expand = True)"
   ]
  },
  {
   "cell_type": "markdown",
   "id": "8cd9eabf",
   "metadata": {},
   "source": [
    "# Defining the rolling dice funtion"
   ]
  },
  {
   "cell_type": "code",
   "execution_count": 109,
   "id": "b9cae2f6",
   "metadata": {},
   "outputs": [],
   "source": [
    "def rolling_dice():\n",
    "    DiceImage = ImageTk.PhotoImage(Image.open(random.choice(dice)))\n",
    "    ImageLabel.configure(image = DiceImage)\n",
    "    ImageLabel.image = DiceImage"
   ]
  },
  {
   "cell_type": "markdown",
   "id": "a76ec7c5",
   "metadata": {},
   "source": [
    "# Creating a button to roll the dice"
   ]
  },
  {
   "cell_type": "code",
   "execution_count": 110,
   "id": "5d215497",
   "metadata": {},
   "outputs": [],
   "source": [
    "button = tkinter.Button(root, text = 'Roll the Dice', fg = 'blue', command = rolling_dice)\n",
    "button.pack(expand = True)"
   ]
  },
  {
   "cell_type": "markdown",
   "id": "c2b15a96",
   "metadata": {},
   "source": [
    "# Start the game"
   ]
  },
  {
   "cell_type": "code",
   "execution_count": 111,
   "id": "7ea9520a",
   "metadata": {},
   "outputs": [],
   "source": [
    "root.mainloop()"
   ]
  }
 ],
 "metadata": {
  "kernelspec": {
   "display_name": "Python 3 (ipykernel)",
   "language": "python",
   "name": "python3"
  },
  "language_info": {
   "codemirror_mode": {
    "name": "ipython",
    "version": 3
   },
   "file_extension": ".py",
   "mimetype": "text/x-python",
   "name": "python",
   "nbconvert_exporter": "python",
   "pygments_lexer": "ipython3",
   "version": "3.9.7"
  }
 },
 "nbformat": 4,
 "nbformat_minor": 5
}
